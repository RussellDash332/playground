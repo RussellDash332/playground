{
  "nbformat": 4,
  "nbformat_minor": 0,
  "metadata": {
    "colab": {
      "name": "NUSMods Toy.ipynb",
      "provenance": []
    },
    "kernelspec": {
      "name": "python3",
      "display_name": "Python 3"
    },
    "language_info": {
      "name": "python"
    }
  },
  "cells": [
    {
      "cell_type": "markdown",
      "metadata": {
        "id": "fsHOkMm_yXRs"
      },
      "source": [
        "# Getting NUS Modules After a Specific Time\n",
        "\n",
        "Sometimes, we don't know what modules to take on a semester but you know you only have certain timeslots to fill. This code will give you a list of modules that might answer your queries!"
      ]
    },
    {
      "cell_type": "markdown",
      "metadata": {
        "id": "E7nTp4lm84cq"
      },
      "source": [
        "## Breakdown"
      ]
    },
    {
      "cell_type": "markdown",
      "metadata": {
        "id": "LZoc98Kuzd5v"
      },
      "source": [
        "First of all, import requests because we are to extract data from the NUSMods API."
      ]
    },
    {
      "cell_type": "code",
      "metadata": {
        "id": "QegGeIHnZvUe"
      },
      "source": [
        "import requests"
      ],
      "execution_count": 1,
      "outputs": []
    },
    {
      "cell_type": "markdown",
      "metadata": {
        "id": "iJ0zh65Hyh8J"
      },
      "source": [
        "Next up, set the AY, sem, and cutoff time.\n",
        "\n",
        "Also define a variable wanted_mods to store our final result.\n",
        "\n",
        "The full data URL is put below in case you want to go deeper into the JSON structure."
      ]
    },
    {
      "cell_type": "code",
      "metadata": {
        "colab": {
          "base_uri": "https://localhost:8080/"
        },
        "id": "pYCBGx4wyO1R",
        "outputId": "94a57f88-2064-4355-ff66-ccc208f5bfaa"
      },
      "source": [
        "AY = '2021-2022'\n",
        "sem = 1\n",
        "cutoff_time = 1800    # I want modules that have class at 6 PM or later\n",
        "wanted_mods = []\n",
        "\n",
        "print('https://api.nusmods.com/v2/' + AY + '/moduleList.json')"
      ],
      "execution_count": 2,
      "outputs": [
        {
          "output_type": "stream",
          "text": [
            "https://api.nusmods.com/v2/2021-2022/moduleList.json\n"
          ],
          "name": "stdout"
        }
      ]
    },
    {
      "cell_type": "markdown",
      "metadata": {
        "id": "ccbhWZoWyufv"
      },
      "source": [
        "Using requests, we obtain the JSON of the data and convert it into a list of dictionaries."
      ]
    },
    {
      "cell_type": "code",
      "metadata": {
        "id": "vz8TJ9BryVAM"
      },
      "source": [
        "module_list = requests.get('https://api.nusmods.com/v2/' + AY + '/moduleList.json').json()"
      ],
      "execution_count": 3,
      "outputs": []
    },
    {
      "cell_type": "markdown",
      "metadata": {
        "id": "EdbZAniqy2wo"
      },
      "source": [
        "module_list is now a list of dictionaries, each dictionary has a structure just like below."
      ]
    },
    {
      "cell_type": "code",
      "metadata": {
        "colab": {
          "base_uri": "https://localhost:8080/"
        },
        "id": "J5atzjAry5xC",
        "outputId": "19161b08-584f-4dec-b71f-ce6248a5af3c"
      },
      "source": [
        "module_list[949] # Yes, I set the index on purpose"
      ],
      "execution_count": 4,
      "outputs": [
        {
          "output_type": "execute_result",
          "data": {
            "text/plain": [
              "{'moduleCode': 'CS2040',\n",
              " 'semesters': [1, 2],\n",
              " 'title': 'Data Structures and Algorithms'}"
            ]
          },
          "metadata": {
            "tags": []
          },
          "execution_count": 4
        }
      ]
    },
    {
      "cell_type": "markdown",
      "metadata": {
        "id": "GX703P_6y6BD"
      },
      "source": [
        "Now we iterate for every dictionary in module_list as follows.\n",
        "\n",
        "\n",
        "*   The default template checks for modules only below 3000. You can add more conditionals if you want to.\n",
        "*   For every module code, there is another link where we can extract the data from.\n",
        "*   If there is a timetable that permits, add the module to our final result.\n",
        "\n",
        "Before we start iterating, let's see how the data of a single module will look like.\n",
        "\n"
      ]
    },
    {
      "cell_type": "markdown",
      "metadata": {
        "id": "-v5XPuFJ90nI"
      },
      "source": [
        "### Single Module Data"
      ]
    },
    {
      "cell_type": "code",
      "metadata": {
        "colab": {
          "base_uri": "https://localhost:8080/"
        },
        "id": "BPia__xP098b",
        "outputId": "f018e648-4220-4ddd-a5d9-ed2bf9ae09a0"
      },
      "source": [
        "cs1010s_data = requests.get('https://api.nusmods.com/v2/' + AY + '/modules/CS1010S.json').json()\n",
        "list(cs1010s_data.keys()) # the main tree"
      ],
      "execution_count": 5,
      "outputs": [
        {
          "output_type": "execute_result",
          "data": {
            "text/plain": [
              "['acadYear',\n",
              " 'preclusion',\n",
              " 'description',\n",
              " 'title',\n",
              " 'department',\n",
              " 'faculty',\n",
              " 'workload',\n",
              " 'moduleCredit',\n",
              " 'moduleCode',\n",
              " 'attributes',\n",
              " 'aliases',\n",
              " 'semesterData',\n",
              " 'fulfillRequirements']"
            ]
          },
          "metadata": {
            "tags": []
          },
          "execution_count": 5
        }
      ]
    },
    {
      "cell_type": "code",
      "metadata": {
        "colab": {
          "base_uri": "https://localhost:8080/"
        },
        "id": "_UqQe9lX2j_I",
        "outputId": "6c7d2e18-fa23-4190-9392-672dc27473b0"
      },
      "source": [
        "list(cs1010s_data['semesterData'][0].keys()) # pick one branch from the main tree, it has sub-branches as shown"
      ],
      "execution_count": 6,
      "outputs": [
        {
          "output_type": "execute_result",
          "data": {
            "text/plain": [
              "['semester', 'timetable', 'covidZones', 'examDate', 'examDuration']"
            ]
          },
          "metadata": {
            "tags": []
          },
          "execution_count": 6
        }
      ]
    },
    {
      "cell_type": "code",
      "metadata": {
        "colab": {
          "base_uri": "https://localhost:8080/"
        },
        "id": "u0qUUqKg3BV_",
        "outputId": "e2cfb3a0-7b02-4272-cb09-f2717ef75b2d"
      },
      "source": [
        "cs1010s_data['semesterData'][0]['timetable'][0] # pick one sub-branch from it, turns out it has many leaves, pick the first leaf"
      ],
      "execution_count": 7,
      "outputs": [
        {
          "output_type": "execute_result",
          "data": {
            "text/plain": [
              "{'classNo': '15',\n",
              " 'covidZone': 'Unknown',\n",
              " 'day': 'Friday',\n",
              " 'endTime': '1500',\n",
              " 'lessonType': 'Recitation',\n",
              " 'size': 50,\n",
              " 'startTime': '1400',\n",
              " 'venue': 'E-Learn_C',\n",
              " 'weeks': [1, 2, 3, 4, 5, 6, 7, 8, 9, 10, 11, 12, 13]}"
            ]
          },
          "metadata": {
            "tags": []
          },
          "execution_count": 7
        }
      ]
    },
    {
      "cell_type": "code",
      "metadata": {
        "colab": {
          "base_uri": "https://localhost:8080/"
        },
        "id": "q53zBmqv1d72",
        "outputId": "73ea6ac4-5c5e-4256-d175-f26350b6d9b5"
      },
      "source": [
        "print('https://api.nusmods.com/v2/' + AY + '/modules/CS1010S.json') # view full data here"
      ],
      "execution_count": 8,
      "outputs": [
        {
          "output_type": "stream",
          "text": [
            "https://api.nusmods.com/v2/2021-2022/modules/CS1010S.json\n"
          ],
          "name": "stdout"
        }
      ]
    },
    {
      "cell_type": "markdown",
      "metadata": {
        "id": "I5pquViY1gd1"
      },
      "source": [
        "### Main Code"
      ]
    },
    {
      "cell_type": "code",
      "metadata": {
        "id": "OybvMwvIy6JT"
      },
      "source": [
        "# This might take a while...\n",
        "\n",
        "for mod in module_list:\n",
        "    mod_code = mod['moduleCode']\n",
        "\n",
        "    mod_num = ''.join(filter(lambda x: x.isdigit(), mod_code))\n",
        "\n",
        "    if int(mod_num) < 3000:\n",
        "        mod_info = requests.get('https://api.nusmods.com/v2/' + AY + '/modules/' + mod_code + '.json').json()\n",
        "\n",
        "        for mod_info_sem in mod_info['semesterData']:             # mod_info['semesterData'] is a list of dictionaries too!\n",
        "            if mod_info_sem['semester'] == sem:\n",
        "                for lesson in mod_info_sem['timetable']:          # also a list of dictionaries, structure shown above\n",
        "                    if int(lesson['startTime']) >= cutoff_time:   # you want the module to start at cutoff_time or later\n",
        "                        wanted_mods.append(mod_code)\n",
        "                        # print(mod_code)                         # track progress so far, optional\n",
        "                        break                                     # this assumes that if there is at least one class (no matter what type)\n",
        "                                                                  # that satisfies the time constraint, add the module\n",
        "\n",
        "                                                                  # feel free to add another constraint(s), e.g. it must be a lecture,\n",
        "                                                                  # hence put lesson['lessonType'] == 'Lecture'\n",
        "                                                                  # or maybe specify the prefix of the module code, e.g.\n",
        "                                                                  # put mod_code[:2] = 'MA'\n",
        "                                                                  # another one idea is to use time intervals, e.g.\n",
        "                                                                  # int(lesson['startTime']) >= lower_bound and int(lesson['endtTime']) <= upper_bound"
      ],
      "execution_count": 9,
      "outputs": []
    },
    {
      "cell_type": "markdown",
      "metadata": {
        "id": "kxxRFLKL2H1S"
      },
      "source": [
        "## Final output is as shown."
      ]
    },
    {
      "cell_type": "code",
      "metadata": {
        "colab": {
          "base_uri": "https://localhost:8080/"
        },
        "id": "HXh6FcO55Ufw",
        "outputId": "7a4278d6-fcf5-4b7c-c2ee-aded31b81f31"
      },
      "source": [
        "print(wanted_mods)"
      ],
      "execution_count": 10,
      "outputs": [
        {
          "output_type": "stream",
          "text": [
            "['BPM1701', 'BPM1702', 'BPM1705', 'CN2121E', 'CN2122E', 'CS1010S', 'CS1101S', 'DAO1704', 'DMB1201DAO', 'DMR1201GEQA', 'DTK1234', 'EG2101', 'EG2201A', 'EG2301', 'EG2311', 'EG2401A', 'ES1531', 'ES2531', 'FSC2101', 'GEC1024', 'GEC1030', 'GEC1031', 'GEH1009', 'GEH1036', 'GEH1062', 'GEH1077', 'GEH1079', 'GEK1505', 'GES1000T', 'GES1002T', 'GES1007', 'GES1028', 'GES1035', 'GESS1005', 'GESS1020', 'GESS1025', 'GET1008', 'GET1021', 'GET1029', 'GET1042', 'GEX1000', 'GEX1005', 'GEX1015', 'HS1501', 'HY1101E', 'HY2253', 'IE2010E', 'IE2110E', 'IE2130E', 'LAB1201', 'LAB2201', 'LAC1201', 'LAF1201', 'LAG1201', 'LAG2201', 'LAH1201', 'LAJ1201', 'LAJ2201', 'LAJ2202', 'LAJ2203', 'LAK1201', 'LAK2201', 'LAL2201', 'LAM1201', 'LAR1201', 'LAS1201', 'LAT1201', 'LAV1201', 'LC1016', 'LC1025', 'MA1521', 'ME2121E', 'ME2134E', 'ME2142E', 'ME2151E', 'MKT2711A', 'MNO1706B', 'MUA1107', 'MUA1108', 'MUA2107', 'MUA2108', 'NM2103', 'NM2104', 'NM2201', 'NM2207', 'NM2220', 'NM2302', 'NUR1123', 'NUR2500', 'NUR2501', 'PL1101E', 'SC2212', 'SC2218', 'TBA2105', 'TCE1109', 'TCE2112', 'TCE2155', 'TCE2183', 'TCE2184', 'TCN1005', 'TCN2121', 'TCN2122', 'TE2002', 'TE2003', 'TE2101', 'TEE2002', 'TEE2003', 'TEE2027', 'TEE2028', 'TEE2101', 'TG1401', 'TIC1001', 'TIC1101', 'TIC2001', 'TIC2002', 'TIC2101', 'TIC2301', 'TIC2601', 'TIC2901', 'TIE2010', 'TIE2030', 'TIE2110', 'TIE2130', 'TM2401', 'TMA1001', 'TMA2103', 'TME2121', 'TME2134', 'TME2142', 'TME2151', 'TME2162', 'TME2401', 'TTG1401', 'UCV2207', 'UHB2207', 'UIT2209', 'ULS2201', 'UQF2101J', 'USS2105', 'UTC1416', 'UTC1417', 'UTC1702B', 'UTC1702D', 'UTC1702E', 'UTC2400', 'UTC2402', 'UTC2412', 'UTC2706', 'UTC2722', 'UTS2402', 'UTS2409', 'UWC2101F', 'YCC1111', 'YCC1113', 'YCC1121', 'YCC1122', 'YCC2121', 'YCC2137', 'YHU2290', 'YLN2201', 'YSC2221', 'YSC2227', 'YSC2239', 'YSC2244', 'YSS2202', 'YSS2203']\n"
          ],
          "name": "stdout"
        }
      ]
    },
    {
      "cell_type": "markdown",
      "metadata": {
        "id": "fT8414tU7pLe"
      },
      "source": [
        "## Putting it all together"
      ]
    },
    {
      "cell_type": "code",
      "metadata": {
        "id": "mjHWJc_P7saf"
      },
      "source": [
        "def get_mods_after_time(AY, sem, cutoff_time):\n",
        "  module_list = requests.get('https://api.nusmods.com/v2/' + AY + '/moduleList.json').json()\n",
        "\n",
        "  wanted_mods = []\n",
        "\n",
        "  for mod in module_list:\n",
        "    mod_code = mod['moduleCode']\n",
        "\n",
        "    mod_num = ''.join(filter(lambda x: x.isdigit(), mod_code))\n",
        "\n",
        "    if int(mod_num) < 3000:\n",
        "        mod_info = requests.get('https://api.nusmods.com/v2/' + AY + '/modules/' + mod_code + '.json').json()\n",
        "\n",
        "        for mod_info_sem in mod_info['semesterData']:\n",
        "            if mod_info_sem['semester'] == sem:\n",
        "                for lesson in mod_info_sem['timetable']:\n",
        "                    if int(lesson['startTime']) >= cutoff_time:\n",
        "                        wanted_mods.append(mod_code)\n",
        "                        break\n",
        "  \n",
        "  return wanted_mods\n",
        "\n",
        "# The whole explanation above is basically about running get_mods_after_time('2021-2022', 1, 1800)"
      ],
      "execution_count": 13,
      "outputs": []
    },
    {
      "cell_type": "markdown",
      "metadata": {
        "id": "woImPIy-5CYu"
      },
      "source": [
        "## Appendix"
      ]
    },
    {
      "cell_type": "code",
      "metadata": {
        "colab": {
          "base_uri": "https://localhost:8080/"
        },
        "id": "aW_9Dxa25EWN",
        "outputId": "a8308a3c-f5ba-482e-87dc-02343c11f4a0"
      },
      "source": [
        "def get_module_info(start_year, mod_code):\n",
        "  AY = f'{start_year}-{start_year+1}'\n",
        "\n",
        "  print('https://api.nusmods.com/v2/' + AY + '/modules/' + mod_code + '.json')\n",
        "  return requests.get('https://api.nusmods.com/v2/' + AY + '/modules/' + mod_code + '.json').json()\n",
        "\n",
        "cs2040_data = get_module_info(2021, 'CS2040')\n",
        "print()\n",
        "dict(filter(lambda x: x[0] != 'semesterData', cs2040_data.items()))"
      ],
      "execution_count": 12,
      "outputs": [
        {
          "output_type": "stream",
          "text": [
            "https://api.nusmods.com/v2/2021-2022/modules/CS2040.json\n",
            "\n"
          ],
          "name": "stdout"
        },
        {
          "output_type": "execute_result",
          "data": {
            "text/plain": [
              "{'acadYear': '2021/2022',\n",
              " 'aliases': ['CS2040C', 'CS2040S'],\n",
              " 'attributes': {'mpes1': True, 'mpes2': True},\n",
              " 'department': 'Computer Science',\n",
              " 'description': 'This module introduces students to the design and implementation of fundamental data structures and algorithms. The module covers basic data structures (linked lists, stacks, queues, hash tables, binary heaps, trees, and graphs), searching and sorting algorithms, and basic analysis of algorithms.',\n",
              " 'faculty': 'Computing',\n",
              " 'fulfillRequirements': ['CS2102',\n",
              "  'CS2103',\n",
              "  'CS2105',\n",
              "  'CS2220',\n",
              "  'CS2309',\n",
              "  'CS3223',\n",
              "  'CS3225',\n",
              "  'CS3230',\n",
              "  'CS3241',\n",
              "  'CS3243',\n",
              "  'CS3244',\n",
              "  'CS4236',\n",
              "  'CS4243',\n",
              "  'CS5240',\n",
              "  'CS3245',\n",
              "  'CS4215',\n",
              "  'CS5343',\n",
              "  'CS2103T',\n",
              "  'CS3218',\n",
              "  'CS2108',\n",
              "  'CS2113',\n",
              "  'CS2113T',\n",
              "  'CS5332',\n",
              "  'CS5346',\n",
              "  'CP3107',\n",
              "  'CS4261',\n",
              "  'CS5477',\n",
              "  'CS5461',\n",
              "  'CS4277',\n",
              "  'CS5469',\n",
              "  'CS4269',\n",
              "  'CS3231',\n",
              "  'IS3261',\n",
              "  'BT4015',\n",
              "  'CG2271'],\n",
              " 'moduleCode': 'CS2040',\n",
              " 'moduleCredit': '4',\n",
              " 'preclusion': 'CS1020, CS1020E, CS2020, CS2010, CS2040C, CS2040S',\n",
              " 'prereqTree': 'CS1010',\n",
              " 'prerequisite': 'CS1010 or its equivalent',\n",
              " 'title': 'Data Structures and Algorithms',\n",
              " 'workload': [3, 0, 1, 3, 3]}"
            ]
          },
          "metadata": {
            "tags": []
          },
          "execution_count": 12
        }
      ]
    }
  ]
}